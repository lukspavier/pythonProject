{
 "cells": [
  {
   "cell_type": "raw",
   "metadata": {},
   "source": [
    "Simule o funcionamento de um banco digital e crie contas para reproduzir alguns dos principais recursos. Um banco possui uma conta comum, que deve ter as seguintes propriedades: números da agência e conta, nome do proprietário da conta, renda mensal e saldo. A conta deve ter seu número gerado aleatoriamente e precisa permitir a realização das seguintes operações:\n",
    "\n",
    "- depósito;\n",
    "- consulta do saldo disponível;\n",
    "- saque.\n",
    "\n",
    "O banco também disponibiliza uma linha de crédito especial pré-aprovado. O saldo desse crédito é estabelecido aleatoriamente, no intervalo entre a renda mensal e o dobro desse valor. Caso o cliente deseje sacar, ele precisa pagar uma taxa de 1,99% por saque. Inclua as operações que julgar adequadas para operar, satisfatoriamente, essa linha de crédito."
   ]
  },
  {
   "cell_type": "code",
   "execution_count": 49,
   "metadata": {},
   "outputs": [
    {
     "name": "stdout",
     "output_type": "stream",
     "text": [
      "Luk\n",
      "0123\n",
      "177\n",
      "1\n",
      "Seu saldo é de: 1\n",
      "Digite o valor para depósito 20\n",
      "Seu saldo é de: 21\n",
      "Digite o valor para saque 1\n",
      "Seu saldo é de: 20\n",
      "552\n",
      "Seu saldo é de: 20\n"
     ]
    }
   ],
   "source": [
    "from numpy import random\n",
    "\n",
    "class Conta:\n",
    "    def __init__(self, n_agencia, nome, renda, saldo, n_conta=None):\n",
    "        \n",
    "        if n_conta is None:\n",
    "            n_conta = random.randint(100, 200)\n",
    "        self.n_agencia = n_agencia\n",
    "        self.n_conta = n_conta\n",
    "        self.nome = nome\n",
    "        self.renda = renda\n",
    "        self.saldo = saldo\n",
    "        \n",
    "   # def numeroconta(self):\n",
    "   #         print('O número da sua conta é ' + str(self.n_conta))\n",
    "        \n",
    "    def deposito(self):\n",
    "            self.saldo = self.saldo + int(input(\"Digite o valor para depósito \"))\n",
    "            return self.saldo\n",
    "        \n",
    "    def consulta(self):\n",
    "            return print(\"Seu saldo é de: \" + str(self.saldo))\n",
    "        \n",
    "    def saque(self):\n",
    "            self.saldo =  self.saldo - int(input(\"Digite o valor para saque \"))\n",
    "            return  self.saldo\n",
    "    \n",
    "    def saquecheck(self):\n",
    "          cheque = random.randint(self.renda, (self.renda * 2))\n",
    "          print(cheque)\n",
    "    \n",
    "    def saqueespecial(self):\n",
    "            self.saldo = self.saldo + ((random.randint(self.renda, self.renda*2) * 0.98))\n",
    "            return self.saldo\n",
    "    \n",
    "conta1 = Conta(\"0123\", \"Luk\", \"10\", 1)\n",
    "\n",
    "#conta1.numeroconta()\n",
    "\n",
    "print(conta1.nome)\n",
    "print(conta1.n_agencia)\n",
    "print(conta1.n_conta)\n",
    "print(conta1.saldo)\n",
    "\n",
    "conta1.consulta()\n",
    "conta1.deposito()\n",
    "conta1.consulta()\n",
    "conta1.saque()\n",
    "conta1.consulta()\n",
    "#conta1.saqueespecial()\n",
    "#conta1.consulta()\n",
    "        \n",
    "conta1.saquecheck()\n",
    "conta1.consulta()"
   ]
  },
  {
   "cell_type": "code",
   "execution_count": null,
   "metadata": {},
   "outputs": [],
   "source": []
  }
 ],
 "metadata": {
  "kernelspec": {
   "display_name": "Python 3",
   "language": "python",
   "name": "python3"
  },
  "language_info": {
   "codemirror_mode": {
    "name": "ipython",
    "version": 3
   },
   "file_extension": ".py",
   "mimetype": "text/x-python",
   "name": "python",
   "nbconvert_exporter": "python",
   "pygments_lexer": "ipython3",
   "version": "3.8.5"
  }
 },
 "nbformat": 4,
 "nbformat_minor": 4
}
