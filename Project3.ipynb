{
 "cells": [
  {
   "cell_type": "markdown",
   "metadata": {},
   "source": [
    "Um condomínio realiza uma eleição para síndico anualmente. Para otimizar o processo de votação e apuração, há a necessidade de criar um sistema de votação digital. Para isso, você deve fazer um programa em que seja possível registrar os votos e, em seguida, apresentar o resultado final. \n",
    "\n",
    "A eleição pode ter entre uma e três chapas, sendo elas Azul, Vermelho e Amarelo, cada uma com apenas um candidato. O condomínio possui 35 apartamentos e apenas um morador de cada residência pode votar. O resultado deve exibir quantos votos teve cada candidato, a quantidade de votos nulos e brancos e a porcentagem deles sobre o total de votos.\n"
   ]
  },
  {
   "cell_type": "code",
   "execution_count": 14,
   "metadata": {},
   "outputs": [
    {
     "name": "stdout",
     "output_type": "stream",
     "text": [
      "Vote 1 para Amarelo! | Vote 2 para Azul | Vote 3 para Vermelho | Vote 4 para nulo:   1\n",
      "Vote 1 para Amarelo! | Vote 2 para Azul | Vote 3 para Vermelho | Vote 4 para nulo:   2\n",
      "Vote 1 para Amarelo! | Vote 2 para Azul | Vote 3 para Vermelho | Vote 4 para nulo:   3\n",
      "Vote 1 para Amarelo! | Vote 2 para Azul | Vote 3 para Vermelho | Vote 4 para nulo:   4\n",
      "Vote 1 para Amarelo! | Vote 2 para Azul | Vote 3 para Vermelho | Vote 4 para nulo:   5\n",
      "Vote 1 para Amarelo! | Vote 2 para Azul | Vote 3 para Vermelho | Vote 4 para nulo:   4\n",
      "Vote 1 para Amarelo! | Vote 2 para Azul | Vote 3 para Vermelho | Vote 4 para nulo:   1\n",
      "Vote 1 para Amarelo! | Vote 2 para Azul | Vote 3 para Vermelho | Vote 4 para nulo:   2\n",
      "Vote 1 para Amarelo! | Vote 2 para Azul | Vote 3 para Vermelho | Vote 4 para nulo:   4\n",
      "Vote 1 para Amarelo! | Vote 2 para Azul | Vote 3 para Vermelho | Vote 4 para nulo:   1\n",
      "Vote 1 para Amarelo! | Vote 2 para Azul | Vote 3 para Vermelho | Vote 4 para nulo:   1\n",
      "Vote 1 para Amarelo! | Vote 2 para Azul | Vote 3 para Vermelho | Vote 4 para nulo:   4\n",
      "Vote 1 para Amarelo! | Vote 2 para Azul | Vote 3 para Vermelho | Vote 4 para nulo:   1\n",
      "Vote 1 para Amarelo! | Vote 2 para Azul | Vote 3 para Vermelho | Vote 4 para nulo:   23\n",
      "Vote 1 para Amarelo! | Vote 2 para Azul | Vote 3 para Vermelho | Vote 4 para nulo:   2\n",
      "Total de votos para Azul:  3\n",
      "Total de votos para Amarelo:  5\n",
      "Total de votos para Vermelho:  1\n",
      "Votos válidos:  9\n",
      "Total de votos brancos:  2\n",
      "Total de votos nulos:  4\n",
      "Votos inválidos:  6\n",
      "Percentual de votos inválidos:  66.66666666666666 %\n"
     ]
    }
   ],
   "source": [
    "chapa = [\"Azul\",\"Vermelho\",\"Amarelo\"]\n",
    "i=0\n",
    "azul=0\n",
    "amarelo=0\n",
    "vermelho=0\n",
    "branco=0\n",
    "nulo=0\n",
    "\n",
    "while i < 35:\n",
    "        a = input(\"Vote 1 para Amarelo! | Vote 2 para Azul | Vote 3 para Vermelho | Vote 4 para nulo:   \")\n",
    "        if a == \"1\":\n",
    "            amarelo += 1\n",
    "            i += 1\n",
    "        elif a == \"2\":\n",
    "            azul+= 1\n",
    "            i += 1\n",
    "        elif a == \"3\":\n",
    "            vermelho+= 1\n",
    "            i += 1\n",
    "        elif a == \"4\":\n",
    "            nulo+= 1\n",
    "            i += 1\n",
    "        else:\n",
    "            branco += 1\n",
    "            i += 1\n",
    "\n",
    "print(\"Total de votos para Azul: \", azul)\n",
    "print(\"Total de votos para Amarelo: \",amarelo)\n",
    "print(\"Total de votos para Vermelho: \",vermelho)\n",
    "print(\"Votos válidos: \", azul+amarelo+vermelho)\n",
    "print(\"Total de votos brancos: \",branco)\n",
    "print(\"Total de votos nulos: \",nulo)\n",
    "print(\"Votos inválidos: \",branco+nulo)\n",
    "print(\"Percentual de votos inválidos: \",((branco+nulo)/(azul+amarelo+vermelho))*100,\"%\")\n",
    "\n",
    "\n"
   ]
  },
  {
   "cell_type": "code",
   "execution_count": null,
   "metadata": {},
   "outputs": [],
   "source": []
  },
  {
   "cell_type": "code",
   "execution_count": null,
   "metadata": {},
   "outputs": [],
   "source": []
  },
  {
   "cell_type": "code",
   "execution_count": null,
   "metadata": {},
   "outputs": [],
   "source": [
    "\n"
   ]
  }
 ],
 "metadata": {
  "kernelspec": {
   "display_name": "Python 3",
   "language": "python",
   "name": "python3"
  },
  "language_info": {
   "codemirror_mode": {
    "name": "ipython",
    "version": 3
   },
   "file_extension": ".py",
   "mimetype": "text/x-python",
   "name": "python",
   "nbconvert_exporter": "python",
   "pygments_lexer": "ipython3",
   "version": "3.8.5"
  }
 },
 "nbformat": 4,
 "nbformat_minor": 4
}
